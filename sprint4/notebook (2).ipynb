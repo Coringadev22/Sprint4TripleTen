{
 "cells": [
  {
   "cell_type": "markdown",
   "metadata": {
    "id": "eAkbw7Ueuj8X"
   },
   "source": [
    "# Qual é o melhor plano?\n",
    "\n",
    "Você trabalha como analista para a empresa de telecomunicações Megaline. A empresa oferece aos clientes dois planos pré-pagos: Surf e Ultimate. O departamento comercial quer saber qual dos planos gera mais receita para ajustar o orçamento de publicidade.\n",
    "\n",
    "Você vai realizar uma análise preliminar dos planos com base em uma pequena seleção de clientes. Você terá dados de 500 clientes da Megaline: que clientes são, de onde eles são, qual plano usam e o número de chamadas e mensagens realizadas em 2018. Seu trabalho é analisar o comportamento dos clientes e determinar qual plano pré-pago gera mais receita."
   ]
  },
  {
   "cell_type": "markdown",
   "metadata": {},
   "source": [
    "Objetivo da Análise\n",
    "\n",
    "Neste projeto, realizaremos uma análise detalhada da empresa Megaline, com o principal objetivo de identificar qual plano de serviço gera maior receita e atrai mais clientes. A partir desses dados, será possível ajustar o orçamento destinado à publicidade, direcionando os investimentos de forma mais estratégica e eficiente, com foco nos planos mais rentáveis."
   ]
  },
  {
   "cell_type": "markdown",
   "metadata": {
    "id": "lnomf-3Xuj8b"
   },
   "source": [
    "## Inicialização"
   ]
  },
  {
   "cell_type": "code",
   "execution_count": 162,
   "metadata": {
    "id": "JdJusn5ouj8c"
   },
   "outputs": [],
   "source": [
    "# Carregando todas as bibliotecas.\n",
    "import pandas as pd\n",
    "import numpy as np\n",
    "import matplotlib.pyplot as plt\n",
    "import seaborn as sns\n",
    "from scipy.stats import ttest_ind\n"
   ]
  },
  {
   "cell_type": "markdown",
   "metadata": {
    "id": "rzqsCrgquj8d"
   },
   "source": [
    "## Carregue os dados"
   ]
  },
  {
   "cell_type": "code",
   "execution_count": null,
   "metadata": {
    "id": "HmzmQRXIuj8e"
   },
   "outputs": [],
   "source": [
    "# Carregue os arquivos de dados em diferentes DataFrames\n",
    "df_calls = pd.read_csv('megaline_calls.csv')\n",
    "df_internet = pd.read_csv('megaline_internet.csv')\n",
    "df_messages = pd.read_csv('megaline_messages.csv')\n",
    "df_plans = pd.read_csv('megaline_plans.csv')\n",
    "df_users = pd.read_csv('megaline_users.csv')"
   ]
  },
  {
   "cell_type": "markdown",
   "metadata": {},
   "source": [
    "Vamos comecar com a tabela de o data frame Calls.csv"
   ]
  },
  {
   "cell_type": "code",
   "execution_count": null,
   "metadata": {},
   "outputs": [],
   "source": [
    "# df_calls.info()\n",
    "# df_calls.sample(5)\n",
    "# df_calls.describe()\n",
    "# df_calls.duplicated().sum()\n",
    "# df_calls.isna().sum()\n"
   ]
  },
  {
   "cell_type": "markdown",
   "metadata": {},
   "source": [
    "A tabela não possui valores nulos.\n",
    "\n",
    "As colunas id e call_date estão no formato object, sendo necessário converter call_date para o tipo datetime para facilitar análises temporais.\n",
    "\n",
    "A coluna ano contém valores duplicados, o que pode indicar registros de anos repetidos — isso deve ser analisado para garantir consistência.\n",
    "\n",
    "🧾 Descrição das Colunas:\n",
    "id — Identificador exclusivo de cada chamada.\n",
    "\n",
    "call_date — Data em que a chamada foi realizada.\n",
    "\n",
    "duration — Duração da chamada em minutos.\n",
    "\n",
    "user_id — Identificador do usuário que realizou a chamada."
   ]
  },
  {
   "cell_type": "markdown",
   "metadata": {},
   "source": [
    "Primeiro vamos converte a coluna call_date para DateTime"
   ]
  },
  {
   "cell_type": "code",
   "execution_count": null,
   "metadata": {},
   "outputs": [],
   "source": [
    "df_calls['call_date'] = pd.to_datetime(df_calls['call_date'])\n"
   ]
  },
  {
   "cell_type": "markdown",
   "metadata": {},
   "source": [
    "Agora mudamos a coluna de id para float, por que se mudar para int iriamos perde as partes decimais. "
   ]
  },
  {
   "cell_type": "code",
   "execution_count": null,
   "metadata": {},
   "outputs": [],
   "source": [
    "df_calls[\"id\"] = df_calls[\"id\"].astype(\"float\")\n"
   ]
  },
  {
   "cell_type": "markdown",
   "metadata": {},
   "source": [
    "Verificando... "
   ]
  },
  {
   "cell_type": "code",
   "execution_count": null,
   "metadata": {},
   "outputs": [],
   "source": [
    "# df_calls.info()\n",
    "# df_calls.describe()"
   ]
  },
  {
   "cell_type": "markdown",
   "metadata": {},
   "source": [
    "Agora vamos analisa o dataframe magaline_internet "
   ]
  },
  {
   "cell_type": "code",
   "execution_count": null,
   "metadata": {},
   "outputs": [],
   "source": [
    "# df_internet.info()\n",
    "# df_internet.sample(5)\n",
    "# df_internet.isna().sum()\n",
    "# df_internet.duplicated().sum()\n"
   ]
  },
  {
   "cell_type": "markdown",
   "metadata": {},
   "source": [
    "A tabela não possui valores nulos.\n",
    "\n",
    "Não há registros duplicados.\n",
    "\n",
    "As colunas id e session_date estão no formato object, sendo recomendado:\n",
    "\n",
    "Converter id para float \n",
    "\n",
    "Converter session_date para o tipo datetime para facilitar análises temporais."
   ]
  },
  {
   "cell_type": "markdown",
   "metadata": {
    "id": "RmibJmmzuj8e"
   },
   "source": [
    "[Os dados deste projeto estão divididos em várias tabelas. Explore cada uma para obter uma compreensão inicial dos dados. Faça correções em cada tabela, se necessário.]"
   ]
  },
  {
   "cell_type": "code",
   "execution_count": null,
   "metadata": {},
   "outputs": [],
   "source": [
    "df_internet['session_date'] = pd.to_datetime(df_internet['session_date'])\n",
    "df_internet[\"id\"] = df_internet[\"id\"].astype(\"float\")"
   ]
  },
  {
   "cell_type": "markdown",
   "metadata": {},
   "source": [
    "conferindo..."
   ]
  },
  {
   "cell_type": "code",
   "execution_count": null,
   "metadata": {},
   "outputs": [],
   "source": [
    "# df_internet.info()\n",
    "# df_internet.sample(5) \n",
    "# df_internet.describe()\n"
   ]
  },
  {
   "cell_type": "markdown",
   "metadata": {},
   "source": [
    "Agora vamos analisar o dataframe Magaline Messages"
   ]
  },
  {
   "cell_type": "code",
   "execution_count": null,
   "metadata": {},
   "outputs": [],
   "source": [
    "# df_messages.isna().sum()\n",
    "# df_messages.duplicated().sum()\n",
    "# df_messages.info()\n",
    "# df_messages.info()"
   ]
  },
  {
   "cell_type": "markdown",
   "metadata": {},
   "source": [
    "A tabela não possui valores nulos.\n",
    "\n",
    "Não há registros duplicados.\n",
    "\n",
    "As colunas id e message_date estão no formato object, sendo recomendada a conversão:\n",
    "\n",
    "id → para Float\n",
    "\n",
    "message_date → para o tipo datetime, a fim de possibilitar análises temporais precisas"
   ]
  },
  {
   "cell_type": "code",
   "execution_count": null,
   "metadata": {},
   "outputs": [],
   "source": [
    "df_messages[\"id\"] = df_messages[\"id\"].astype(\"float\")\n",
    "df_messages['message_date'] = pd.to_datetime(df_messages['message_date'])"
   ]
  },
  {
   "cell_type": "markdown",
   "metadata": {},
   "source": [
    "Conferindo... "
   ]
  },
  {
   "cell_type": "code",
   "execution_count": null,
   "metadata": {},
   "outputs": [],
   "source": [
    "# df_messages.info()"
   ]
  },
  {
   "cell_type": "markdown",
   "metadata": {},
   "source": [
    "Agora vamos conferir os dados de Magaline Plans \n"
   ]
  },
  {
   "cell_type": "code",
   "execution_count": null,
   "metadata": {},
   "outputs": [],
   "source": [
    "# df_plans"
   ]
  },
  {
   "cell_type": "markdown",
   "metadata": {},
   "source": [
    "A tabela contém apenas informações referentes aos planos oferecidos pela empresa.\n",
    "\n",
    "Não possui valores ausentes ou duplicados.\n",
    "\n",
    "A estrutura é autoexplicativa e não requer alterações neste momento."
   ]
  },
  {
   "cell_type": "markdown",
   "metadata": {},
   "source": [
    "Agora vamos conferir a tabela users.. "
   ]
  },
  {
   "cell_type": "code",
   "execution_count": null,
   "metadata": {},
   "outputs": [],
   "source": [
    "# df_users.info()\n",
    "# df_users.sample(5)\n",
    "# df_users.isna().sum()\n",
    "# df_users.duplicated().sum()"
   ]
  },
  {
   "cell_type": "markdown",
   "metadata": {},
   "source": [
    "A tabela não possui registros duplicados.\n",
    "\n",
    "A coluna reg_date (data de registro) está no formato object e deve ser convertida para datetime para facilitar análises temporais.\n",
    "\n",
    "A coluna churn_date indica a data em que o usuário cancelou o serviço. Também está como object e deve ser convertida para datetime.\n",
    "\n",
    "Existem 466 valores ausentes nessa coluna, o que significa que esses usuários ainda estavam com o plano ativo no momento da extração dos dados."
   ]
  },
  {
   "cell_type": "code",
   "execution_count": null,
   "metadata": {},
   "outputs": [],
   "source": [
    "df_users[\"reg_date\"] = pd.to_datetime(df_users[\"reg_date\"])\n",
    "df_users[\"churn_date\"] = pd.to_datetime(df_users[\"churn_date\"])\n",
    "df_users[\"status\"] = df_users[\"churn_date\"].isna().map({True: \"Ativo\", False: \"Cancelado\"})\n",
    "\n"
   ]
  },
  {
   "cell_type": "markdown",
   "metadata": {},
   "source": [
    "Foram realizadas duas principais transformações na tabela users com o objetivo de preparar os dados para análises temporais e de cancelamento:\n",
    "\n",
    "As colunas reg_date e churn_date, originalmente no formato object, foram convertidas para o tipo datetime, permitindo uma análise cronológica precisa.\n",
    "\n",
    "Foi criada uma nova coluna chamada status, que classifica os usuários como \"Ativo\" ou \"Cancelado\", com base na ausência ou presença de data na coluna churn_date.\n",
    "\n",
    "Essas alterações estruturam melhor a base de dados e facilitam análises relacionadas à retenção de clientes, duração dos planos e comportamento de cancelamento."
   ]
  },
  {
   "cell_type": "markdown",
   "metadata": {
    "id": "TlZUw_Cyuj8f"
   },
   "source": [
    "## Planos"
   ]
  },
  {
   "cell_type": "code",
   "execution_count": null,
   "metadata": {
    "id": "x9qB5mAOuj8f"
   },
   "outputs": [],
   "source": [
    "# Imprima informações gerais/resumo sobre o DataFrame dos planos\n"
   ]
  },
  {
   "cell_type": "code",
   "execution_count": null,
   "metadata": {
    "id": "9MRo7tyVuj8f"
   },
   "outputs": [],
   "source": [
    "# Imprima uma amostra de dados dos planos\n",
    "\n"
   ]
  },
  {
   "cell_type": "markdown",
   "metadata": {
    "id": "P8hzr-lquj8f"
   },
   "source": [
    "[Descreva o que você nota sobre as informações gerais e sobre a amostra de dados impressa acima. Existem problemas (tipos de dados inadequados, dados ausentes, etc.) que precisam de mais investigação e alterações? Como isso pode ser corrigido?]"
   ]
  },
  {
   "cell_type": "markdown",
   "metadata": {
    "collapsed": false,
    "id": "KXtaxmKsuj8f",
    "jupyter": {
     "outputs_hidden": false
    }
   },
   "source": [
    "## Corrija os dados"
   ]
  },
  {
   "cell_type": "markdown",
   "metadata": {
    "id": "9BWuM80Buj8f"
   },
   "source": [
    "[Corrija problemas óbvios com os dados conforme as observações iniciais.]"
   ]
  },
  {
   "cell_type": "code",
   "execution_count": null,
   "metadata": {
    "id": "Hen8bhG1uj8g"
   },
   "outputs": [],
   "source": []
  },
  {
   "cell_type": "markdown",
   "metadata": {
    "id": "kLcdKu6Duj8g"
   },
   "source": [
    "## Enriqueça os dados"
   ]
  },
  {
   "cell_type": "markdown",
   "metadata": {
    "id": "x1L6F_gmuj8g"
   },
   "source": [
    "[Inclua fatores adicionais aos dados se você acredita que eles podem ser úteis.]"
   ]
  },
  {
   "cell_type": "code",
   "execution_count": null,
   "metadata": {
    "id": "6j4XA9_ruj8g"
   },
   "outputs": [],
   "source": []
  },
  {
   "cell_type": "markdown",
   "metadata": {
    "id": "YJg2O9qjuj8g"
   },
   "source": [
    "## Usuários"
   ]
  },
  {
   "cell_type": "code",
   "execution_count": null,
   "metadata": {
    "id": "7JzxwD2juj8g"
   },
   "outputs": [],
   "source": [
    "# Imprima informações gerais/resumo sobre o DataFrame dos usuários\n",
    "\n"
   ]
  },
  {
   "cell_type": "code",
   "execution_count": null,
   "metadata": {
    "id": "5KZ8XmD8uj8g"
   },
   "outputs": [],
   "source": [
    "# Imprima uma amostra de dados dos usuários\n",
    "\n"
   ]
  },
  {
   "cell_type": "markdown",
   "metadata": {
    "id": "XGCgkfLvuj8h"
   },
   "source": [
    "[Descreva o que você nota sobre as informações gerais e sobre a amostra de dados impressa acima. Existem problemas (tipos de dados inadequados, dados ausentes, etc.) que precisam de mais investigação e alterações? Como isso pode ser corrigido?]"
   ]
  },
  {
   "cell_type": "markdown",
   "metadata": {
    "id": "ppiEfe3luj8i"
   },
   "source": [
    "### Corrija os dados"
   ]
  },
  {
   "cell_type": "markdown",
   "metadata": {
    "id": "os4Gubp_uj8j"
   },
   "source": [
    "[Corrija problemas óbvios com os dados conforme as observações iniciais.]"
   ]
  },
  {
   "cell_type": "code",
   "execution_count": null,
   "metadata": {
    "id": "Oa1XFooouj8j"
   },
   "outputs": [],
   "source": []
  },
  {
   "cell_type": "markdown",
   "metadata": {
    "id": "H3gpde3Juj8j"
   },
   "source": [
    "### Enriqueça os dados"
   ]
  },
  {
   "cell_type": "markdown",
   "metadata": {
    "id": "HOZyfII6uj8j"
   },
   "source": [
    "[Inclua fatores adicionais aos dados se você acredita que eles podem ser úteis.]"
   ]
  },
  {
   "cell_type": "code",
   "execution_count": null,
   "metadata": {
    "id": "4vuUjT2juj8j"
   },
   "outputs": [],
   "source": []
  },
  {
   "cell_type": "markdown",
   "metadata": {
    "id": "f4uSIMuuuj8j"
   },
   "source": [
    "## Chamadas"
   ]
  },
  {
   "cell_type": "code",
   "execution_count": null,
   "metadata": {
    "id": "hkY01fJnuj8j"
   },
   "outputs": [],
   "source": [
    "# Imprima informações gerais/resumo sobre o DataFrame das chamadas\n",
    "\n"
   ]
  },
  {
   "cell_type": "code",
   "execution_count": null,
   "metadata": {
    "id": "wdBwJG5Yuj8k"
   },
   "outputs": [],
   "source": [
    "# Imprima uma amostra de dados das chamadas\n",
    "\n"
   ]
  },
  {
   "cell_type": "markdown",
   "metadata": {
    "id": "Y8An85-Tuj8k"
   },
   "source": [
    "[Descreva o que você nota sobre as informações gerais e sobre a amostra de dados impressa acima. Existem problemas (tipos de dados inadequados, dados ausentes, etc.) que precisam de mais investigação e alterações? Como isso pode ser corrigido?]"
   ]
  },
  {
   "cell_type": "markdown",
   "metadata": {
    "id": "x5a99U4xuj8k"
   },
   "source": [
    "### Corrija os dados"
   ]
  },
  {
   "cell_type": "markdown",
   "metadata": {
    "id": "MQqkU83Xuj8k"
   },
   "source": [
    "[Corrija problemas óbvios com os dados conforme as observações iniciais.]"
   ]
  },
  {
   "cell_type": "code",
   "execution_count": null,
   "metadata": {
    "id": "lBjdw0Bnuj8l"
   },
   "outputs": [],
   "source": []
  },
  {
   "cell_type": "markdown",
   "metadata": {
    "id": "MFm5xyh4uj8l"
   },
   "source": [
    "### Enriqueça os dados"
   ]
  },
  {
   "cell_type": "markdown",
   "metadata": {
    "id": "Udv2togruj8l"
   },
   "source": [
    "[Inclua fatores adicionais aos dados se você acredita que eles podem ser úteis.]"
   ]
  },
  {
   "cell_type": "code",
   "execution_count": null,
   "metadata": {
    "id": "nwOKTgfluj8l"
   },
   "outputs": [],
   "source": []
  },
  {
   "cell_type": "markdown",
   "metadata": {
    "id": "qLz4FkyRuj8l"
   },
   "source": [
    "## Mensagens"
   ]
  },
  {
   "cell_type": "code",
   "execution_count": null,
   "metadata": {
    "id": "nFA9DFkCuj8l"
   },
   "outputs": [],
   "source": [
    "# Imprima informações gerais/resumo sobre o DataFrame das mensagens\n",
    "\n"
   ]
  },
  {
   "cell_type": "code",
   "execution_count": null,
   "metadata": {
    "id": "ysEFBZWxuj8m"
   },
   "outputs": [],
   "source": [
    "# Imprima uma amostra dos dados das mensagens\n",
    "\n"
   ]
  },
  {
   "cell_type": "markdown",
   "metadata": {
    "id": "GUtt1TqCuj8m"
   },
   "source": [
    "[Descreva o que você nota sobre as informações gerais e sobre a amostra de dados impressa acima. Existem problemas (tipos de dados inadequados, dados ausentes, etc.) que precisam de mais investigação e alterações? Como isso pode ser corrigido?]"
   ]
  },
  {
   "cell_type": "markdown",
   "metadata": {
    "id": "tT8N_hc6uj8m"
   },
   "source": [
    "### Corrija os dados"
   ]
  },
  {
   "cell_type": "markdown",
   "metadata": {
    "id": "IgO0SzXKuj8m"
   },
   "source": [
    "[Corrija problemas óbvios com os dados conforme as observações iniciais.]"
   ]
  },
  {
   "cell_type": "code",
   "execution_count": null,
   "metadata": {
    "id": "SpBqbQHCuj8m"
   },
   "outputs": [],
   "source": []
  },
  {
   "cell_type": "markdown",
   "metadata": {
    "id": "feV2Njo9uj8n"
   },
   "source": [
    "### Enriqueça os dados"
   ]
  },
  {
   "cell_type": "markdown",
   "metadata": {
    "id": "KA5XDEoZuj8n"
   },
   "source": [
    "[Inclua fatores adicionais aos dados se você acredita que eles podem ser úteis.]"
   ]
  },
  {
   "cell_type": "code",
   "execution_count": null,
   "metadata": {
    "id": "SkuCXcLJuj8n"
   },
   "outputs": [],
   "source": []
  },
  {
   "cell_type": "markdown",
   "metadata": {
    "id": "ZRFaOWzGuj8n"
   },
   "source": [
    "## Internet"
   ]
  },
  {
   "cell_type": "code",
   "execution_count": null,
   "metadata": {
    "id": "ob3-qv4nuj8n"
   },
   "outputs": [],
   "source": [
    "# Imprima informações gerais/resumo sobre o DataFrame da internet\n",
    "\n"
   ]
  },
  {
   "cell_type": "code",
   "execution_count": null,
   "metadata": {
    "id": "iIHK4fZsuj8n"
   },
   "outputs": [],
   "source": [
    "#  Imprima uma amostra de dados para o tráfego da internet\n",
    "\n"
   ]
  },
  {
   "cell_type": "markdown",
   "metadata": {
    "id": "6wpo7ugquj8o"
   },
   "source": [
    "[Descreva o que você nota sobre as informações gerais e sobre a amostra de dados impressa acima. Existem problemas (tipos de dados inadequados, dados ausentes, etc.) que precisam de mais investigação e alterações? Como isso pode ser corrigido?]"
   ]
  },
  {
   "cell_type": "markdown",
   "metadata": {
    "id": "Tly90YrTuj8o"
   },
   "source": [
    "### Corrija os dados"
   ]
  },
  {
   "cell_type": "markdown",
   "metadata": {
    "id": "F_yvcX-9uj8o"
   },
   "source": [
    "[Corrija problemas óbvios com os dados conforme as observações iniciais.]"
   ]
  },
  {
   "cell_type": "code",
   "execution_count": null,
   "metadata": {
    "id": "GCoX7kbmuj8o"
   },
   "outputs": [],
   "source": []
  },
  {
   "cell_type": "markdown",
   "metadata": {
    "id": "DEDbrtFduj8o"
   },
   "source": [
    "### Enriqueça os dados"
   ]
  },
  {
   "cell_type": "markdown",
   "metadata": {
    "id": "ilg-XzXpuj8p"
   },
   "source": [
    "[Inclua fatores adicionais aos dados se você acredita que eles podem ser úteis.]"
   ]
  },
  {
   "cell_type": "code",
   "execution_count": null,
   "metadata": {
    "id": "f1PoZ3Ukuj8p"
   },
   "outputs": [],
   "source": []
  },
  {
   "cell_type": "markdown",
   "metadata": {
    "id": "bnOX4ARJuj8p"
   },
   "source": [
    "## Estude as condições dos planos"
   ]
  },
  {
   "cell_type": "markdown",
   "metadata": {
    "id": "vMu9_L8quj8p"
   },
   "source": [
    "[É fundamental entender como os planos funcionam, ou seja, como as cobranças dos usuários são feitas com base na assinatura. Sugerimos imprimir as informações sobre os planos para visualizar novamente as condições.]"
   ]
  },
  {
   "cell_type": "code",
   "execution_count": null,
   "metadata": {
    "id": "vMXVndWEuj8p"
   },
   "outputs": [],
   "source": [
    "# Imprima as condições dos planos e certifique-se de que elas fazem sentido para você\n",
    "\n",
    "df_plans.head()"
   ]
  },
  {
   "cell_type": "markdown",
   "metadata": {},
   "source": [
    "Se muitos usuários do plano surf frequentemente ultrapassam os limites, eles estão gerando mais receita por excedente — e pode valer a pena investir em marketing para manter ou atrair esse perfil.\n",
    "Já se os usuários do plano ultimate ficam longe dos limites, talvez ele esteja superdimensionado — ou pode ser promovido para heavy users."
   ]
  },
  {
   "cell_type": "markdown",
   "metadata": {
    "id": "1v1EshDmuj8q"
   },
   "source": [
    "## Agregue os dados por usuário\n",
    "\n",
    "[Agora, como os dados estão limpos, os agregue por usuário e por período para ter apenas um registro dessas informações. Isso vai facilitar muito as próximas análises.]"
   ]
  },
  {
   "cell_type": "code",
   "execution_count": null,
   "metadata": {
    "id": "4hmb2pSPuj8q"
   },
   "outputs": [],
   "source": [
    "# Calcule o número de chamadas feitas por cada usuário por mês. Salve o resultado.\n",
    "df_calls['month'] = df_calls['call_date'].dt.to_period('M')\n",
    "\n",
    "df_calls['calls_per_month'] = (\n",
    "    df_calls.groupby(['user_id', 'month'])['call_date'].transform('count')\n",
    ")\n",
    "\n",
    "df_calls['calls_per_month'] = df_calls['calls_per_month'].astype(int)\n",
    "\n",
    "# df_calls.sample(5)"
   ]
  },
  {
   "cell_type": "code",
   "execution_count": null,
   "metadata": {
    "id": "yHgBWCJJuj8q"
   },
   "outputs": [],
   "source": [
    "# Calcule a quantidade de minutos gastos por cada usuário por mês. Salve o resultado.\n",
    "import numpy as np\n",
    "df_calls['rounded_minutes'] = df_calls['duration'].apply(lambda x: np.ceil(x))\n",
    "df_calls['minutes_per_month'] = (\n",
    "    df_calls.groupby(['user_id', 'month'])['rounded_minutes'].transform('sum')\n",
    ")\n",
    "df_calls['minutes_per_month'] = df_calls['minutes_per_month'].astype(int)\n",
    "# df_calls.head(10)\n"
   ]
  },
  {
   "cell_type": "code",
   "execution_count": null,
   "metadata": {
    "id": "MaM_cPxauj8q"
   },
   "outputs": [],
   "source": [
    "# Calcule o número de mensagens enviadas por cada usuário por mês. Salve o resultado.\n",
    "df_messages['month'] = pd.to_datetime(df_messages['message_date']).dt.to_period('M')\n",
    "\n",
    "# Contar o número de mensagens por usuário por mês\n",
    "df_messages['messages_per_month'] = (\n",
    "    df_messages.groupby(['user_id', 'month'])['message_date'].transform('count')\n",
    ")\n",
    "\n",
    "# Garantir que o resultado seja inteiro\n",
    "df_messages['messages_per_month'] = df_messages['messages_per_month'].astype(int)\n",
    "\n"
   ]
  },
  {
   "cell_type": "code",
   "execution_count": null,
   "metadata": {},
   "outputs": [],
   "source": [
    "# df_messages.sample(10)"
   ]
  },
  {
   "cell_type": "code",
   "execution_count": null,
   "metadata": {
    "id": "WsCEZJ_xuj8q"
   },
   "outputs": [],
   "source": [
    "# Calcule o volume de tráfego de internet usado por cada usuário por mês. Salve o resultado.\n",
    "df_internet['month'] = pd.to_datetime(df_internet['session_date']).dt.to_period('M')\n",
    "\n",
    "df_internet['internet_per_month'] = (\n",
    "    df_internet.groupby(['user_id', 'month'])['mb_used'].transform('sum')\n",
    ")   \n",
    "# Garantir que o resultado seja inteiro\n",
    "df_internet['internet_per_month'] = df_internet['internet_per_month'].astype(int)\n",
    "\n"
   ]
  },
  {
   "cell_type": "code",
   "execution_count": null,
   "metadata": {},
   "outputs": [],
   "source": [
    "# df_internet.sample(10)"
   ]
  },
  {
   "cell_type": "markdown",
   "metadata": {
    "id": "6nBsD4hduj8q"
   },
   "source": [
    "[Coloque os dados agregados em um DataFrame para que cada registro nele represente o que cada usuário consumiu em um determinado mês.]"
   ]
  },
  {
   "cell_type": "code",
   "execution_count": null,
   "metadata": {
    "id": "BYDTkxOauj8r"
   },
   "outputs": [],
   "source": [
    "# Junte os dados de chamadas, minutos, mensagens e internet com base em user_id e month\n",
    "\n",
    "\n",
    "calls_monthly = df_calls[['user_id', 'month', 'minutes_per_month']].drop_duplicates()\n",
    "messages_monthly = df_messages[['user_id', 'month', 'messages_per_month']].drop_duplicates()\n",
    "internet_monthly = df_internet[['user_id', 'month', 'mb_used']].drop_duplicates()\n"
   ]
  },
  {
   "cell_type": "code",
   "execution_count": null,
   "metadata": {},
   "outputs": [],
   "source": [
    "# Merge \n",
    "df_usage = calls_monthly.merge(messages_monthly, on=['user_id', 'month'], how='outer')\n",
    "df_usage = df_usage.merge(internet_monthly, on=['user_id', 'month'], how='outer')\n"
   ]
  },
  {
   "cell_type": "code",
   "execution_count": null,
   "metadata": {},
   "outputs": [],
   "source": [
    "# df_usage.head(10)"
   ]
  },
  {
   "cell_type": "code",
   "execution_count": null,
   "metadata": {
    "id": "SW-sgLaHuj8r"
   },
   "outputs": [],
   "source": [
    "# Adicione as informações sobre o plano\n",
    "\n",
    "df_usage = df_usage.merge(df_users[['user_id', 'plan']], on='user_id', how='left')\n"
   ]
  },
  {
   "cell_type": "code",
   "execution_count": null,
   "metadata": {},
   "outputs": [],
   "source": [
    "df_usage.sample(10)\n",
    "df_usage[['minutes_per_month', 'messages_per_month']] = df_usage[['minutes_per_month', 'messages_per_month']].fillna(0).astype(int)\n",
    "df_usage['mb_used'] = df_usage['mb_used'].fillna(0)\n"
   ]
  },
  {
   "cell_type": "code",
   "execution_count": null,
   "metadata": {},
   "outputs": [],
   "source": [
    "# df_usage.sample(10)"
   ]
  },
  {
   "cell_type": "markdown",
   "metadata": {
    "id": "mU8dKHTQuj8r"
   },
   "source": [
    "[Calcule a receita mensal para cada usuário: subtraia o limite gratuito do pacote do número total de chamadas, mensagens de texto e dados; multiplique o resultado pelo valor do plano; adicione o preço mensal dependendo do plano. Importante: isso talvez não seja tão simples e necessite de várias linhas, considerando as condições do plano. Portanto, não se preocupe se você passar algum tempo nesta etapa.]"
   ]
  },
  {
   "cell_type": "code",
   "execution_count": null,
   "metadata": {},
   "outputs": [],
   "source": [
    "# Juntar os limites e valores do plano com base em plan_name\n",
    "df_usage = df_usage.merge(df_plans, left_on='plan', right_on='plan_name', how='left')\n",
    "\n"
   ]
  },
  {
   "cell_type": "code",
   "execution_count": null,
   "metadata": {},
   "outputs": [],
   "source": [
    "# df_usage"
   ]
  },
  {
   "cell_type": "code",
   "execution_count": null,
   "metadata": {},
   "outputs": [],
   "source": [
    "# Calcular excedentes (valores acima do que o plano inclui)\n",
    "df_usage['extra_minutes'] = (df_usage['minutes_per_month'] - df_usage['minutes_included']).clip(lower=0)\n",
    "df_usage['extra_messages'] = (df_usage['messages_per_month'] - df_usage['messages_included']).clip(lower=0)\n",
    "df_usage['extra_mb'] = (df_usage['mb_used'] - df_usage['mb_per_month_included']).clip(lower=0)\n",
    "\n",
    "# Converter MB para GB e arredondar pra cima para cobrar\n",
    "df_usage['extra_gb'] = np.ceil(df_usage['extra_mb'] / 1024)\n",
    "\n",
    "# Calcular receita total do mês por usuário\n",
    "df_usage['revenue'] = (\n",
    "    df_usage['usd_monthly_pay'] +\n",
    "    df_usage['extra_minutes'] * df_usage['usd_per_minute'] +\n",
    "    df_usage['extra_messages'] * df_usage['usd_per_message'] +\n",
    "    df_usage['extra_gb'] * df_usage['usd_per_gb']\n",
    ")\n"
   ]
  },
  {
   "cell_type": "code",
   "execution_count": null,
   "metadata": {},
   "outputs": [],
   "source": [
    "df_usage[['user_id', 'month', 'plan', 'revenue']].sample(10)\n"
   ]
  },
  {
   "cell_type": "code",
   "execution_count": null,
   "metadata": {},
   "outputs": [],
   "source": [
    "df_usage.groupby('plan')['revenue'].sum().sort_values(ascending=False)\n"
   ]
  },
  {
   "cell_type": "code",
   "execution_count": null,
   "metadata": {},
   "outputs": [],
   "source": [
    "df_usage.groupby('plan')['revenue'].mean().round(2)\n"
   ]
  },
  {
   "cell_type": "markdown",
   "metadata": {
    "id": "0HFWXKTQuj8r"
   },
   "source": [
    "## Estude o comportamento do usuário"
   ]
  },
  {
   "cell_type": "markdown",
   "metadata": {
    "id": "i6gGFggkuj8s"
   },
   "source": [
    "[Calcule algumas estatísticas descritivas úteis para os dados agregados, o que costuma revelar uma imagem geral capturada pelos dados. Desenhe gráficos úteis para ajudar na compreensão. Já que a tarefa principal é comparar os planos e decidir qual é mais rentável, as estatísticas e os gráficos devem ser calculados por plano.]\n",
    "\n",
    "[Existem dicas relevantes nos comentários para as chamadas. Essas dicas não foram fornecidas para as mensagens e internet, mas o princípio do estudo estatístico é o mesmo em todos os casos.]"
   ]
  },
  {
   "cell_type": "markdown",
   "metadata": {
    "id": "umaMfSLxuj8s"
   },
   "source": [
    "### Chamadas"
   ]
  },
  {
   "cell_type": "code",
   "execution_count": null,
   "metadata": {
    "id": "0236-tJnuj8t"
   },
   "outputs": [],
   "source": [
    "# Adicionar o plano de cada usuário ao df_calls\n",
    "df_calls = df_calls.merge(df_users[['user_id', 'plan']], on='user_id', how='left')\n",
    "\n",
    "# Extrair o mês da chamada\n",
    "df_calls['month'] = df_calls['call_date'].dt.to_period('M')\n",
    "\n",
    "# Agrupar por plano e mês, e calcular a média da duração\n",
    "avg_duration = (\n",
    "    df_calls.groupby(['plan', 'month'])['duration']\n",
    "    .mean()\n",
    "    .reset_index()\n",
    ")\n",
    "\n",
    "# Configuração do gráfico\n",
    "plt.figure(figsize=(12, 6))\n",
    "sns.barplot(data=avg_duration, x='month', y='duration', hue='plan')\n",
    "\n",
    "plt.title('📞 Duração média das chamadas por plano (mês a mês)')\n",
    "plt.xlabel('Mês')\n",
    "plt.ylabel('Duração média (minutos)')\n",
    "plt.xticks(rotation=45)\n",
    "plt.legend(title='Plano')\n",
    "plt.tight_layout()\n",
    "plt.show()\n",
    "\n"
   ]
  },
  {
   "cell_type": "code",
   "execution_count": null,
   "metadata": {
    "id": "9sCQ1lP8uj8u"
   },
   "outputs": [],
   "source": [
    "plt.figure(figsize=(12, 6))\n",
    "\n",
    "sns.histplot(\n",
    "    data=df_usage,\n",
    "    x='minutes_per_month',\n",
    "    hue='plan',\n",
    "    bins=30,\n",
    "    multiple='dodge',  \n",
    "    palette='Set2'     \n",
    ")\n",
    "\n",
    "plt.title('📊 Distribuição de minutos usados por mês (por plano)')\n",
    "plt.xlabel('Minutos por mês')\n",
    "plt.ylabel('Número de usuários')\n",
    "plt.legend(title='Plano')\n",
    "plt.tight_layout()\n",
    "plt.legend(title='Plano', labels=df_usage['plan'].unique())\n",
    "plt.show()"
   ]
  },
  {
   "cell_type": "markdown",
   "metadata": {
    "id": "_x1pRDFtuj8u"
   },
   "source": [
    "[Calcule a média e a variância da duração das chamadas para refletir se os usuários de cada plano possuem comportamentos diferentes sobre as chamadas.]"
   ]
  },
  {
   "cell_type": "code",
   "execution_count": null,
   "metadata": {
    "id": "cIdodPExuj8u"
   },
   "outputs": [],
   "source": [
    "# Criar a coluna 'month' com base na data\n",
    "df_calls['month'] = pd.to_datetime(df_calls['call_date']).dt.to_period('M')\n",
    "\n",
    "# Calcular número de chamadas por usuário por mês\n",
    "calls_monthly = (\n",
    "    df_calls\n",
    "    .groupby(['user_id', 'month'])\n",
    "    .size()\n",
    "    .reset_index(name='calls_per_month')\n",
    ")\n",
    "\n",
    "df_usage = df_usage.merge(calls_monthly, on=['user_id', 'month'], how='left')\n",
    "\n",
    "# Evitar divisão por zero\n",
    "df_usage = df_usage[df_usage['calls_per_month'] > 0]\n",
    "\n",
    "# Calcular a duração média das chamadas por usuário por mês\n",
    "df_usage['average_call_duration'] = df_usage['minutes_per_month'] / df_usage['calls_per_month']\n",
    "\n",
    "\n"
   ]
  },
  {
   "cell_type": "code",
   "execution_count": null,
   "metadata": {},
   "outputs": [],
   "source": [
    "duration_stats = (\n",
    "    df_usage\n",
    "    .groupby('plan', as_index=False)\n",
    "    .agg(\n",
    "        media_duracao=('average_call_duration', 'mean'),\n",
    "        variancia_duracao=('average_call_duration', 'var')\n",
    "    )\n",
    ")\n",
    "\n",
    "print(duration_stats)\n"
   ]
  },
  {
   "cell_type": "code",
   "execution_count": null,
   "metadata": {
    "id": "DW7vTypxuj8u"
   },
   "outputs": [],
   "source": [
    "# Faça um diagrama de caixa para visualizar a distribuição da duração mensal das chamadas\n",
    "\n",
    "\n",
    "plt.figure(figsize=(10, 6))\n",
    "sns.boxplot(data=df_usage, x='plan', y='average_call_duration', palette='Set3')\n",
    "\n",
    "plt.title('📦 Distribuição da Duração Média das Chamadas por Plano')\n",
    "plt.xlabel('Plano')\n",
    "plt.ylabel('Duração Média das Chamadas (min)')\n",
    "plt.tight_layout()\n",
    "plt.show()\n"
   ]
  },
  {
   "cell_type": "markdown",
   "metadata": {
    "id": "Uyt3rWn7uj8u"
   },
   "source": [
    "[Formule conclusões sobre como os usuários se comportam em termos de chamadas. O comportamento é diferente dependendo do plano?]"
   ]
  },
  {
   "cell_type": "markdown",
   "metadata": {},
   "source": [
    "### 📞 Análise do Comportamento de Chamadas por Plano\n",
    "\n",
    "#### 1. Duração Média das Chamadas\n",
    "- A média da duração das chamadas é **semelhante entre os planos**:\n",
    "  - `Surf`: 7.15 minutos  \n",
    "  - `Ultimate`: 7.10 minutos\n",
    "- Isso indica que a **duração individual das ligações não varia de acordo com o plano**.\n",
    "\n",
    "#### 2. Distribuição da Duração (Boxplot)\n",
    "- A distribuição da duração das chamadas é **muito parecida entre os planos**, com outliers em ambos.\n",
    "- A **variância é baixa e próxima nos dois casos**, reforçando a estabilidade no comportamento dos usuários quanto ao tempo por ligação.\n",
    "\n",
    "#### 3. Volume de Minutos Usados por Mês (Histograma)\n",
    "- Usuários do plano **Surf** tendem a usar entre **200 e 600 minutos/mês**, a maioria **abaixo do limite de 500 minutos**.\n",
    "- Usuários do plano **Ultimate** utilizam um **volume significativamente maior** de minutos, com muitos alcançando ou ultrapassando 1000 minutos/mês.\n",
    "- O **Ultimate é claramente mais usado por usuários que fazem muitas chamadas**, enquanto o **Surf atende quem faz uso mais moderado**.\n",
    "\n",
    "#### 4. Duração Média por Mês (Gráfico de Barras)\n",
    "- A duração média das chamadas **permanece estável ao longo dos meses** para ambos os planos.\n",
    "- Pequenas variações mensais reforçam que o comportamento do cliente é **consistente ao longo do tempo**.\n",
    "\n",
    "---\n",
    "\n",
    "### ✅ Conclusão\n",
    "> A duração média das chamadas é semelhante entre os planos, mas os usuários do plano **Ultimate realizam muito mais chamadas mensalmente**. Isso mostra que o tipo de plano influencia **o volume de uso**, mas não **o tempo por ligação**.  \n",
    "> O plano **Surf** é ideal para usuários com uso moderado, enquanto o **Ultimate** atende melhor clientes com alto volume de chamadas.\n"
   ]
  },
  {
   "cell_type": "markdown",
   "metadata": {
    "id": "2hWSPtrnuj8v"
   },
   "source": [
    "### Mensagens"
   ]
  },
  {
   "cell_type": "code",
   "execution_count": null,
   "metadata": {
    "id": "9kPlAhOJuj8v"
   },
   "outputs": [],
   "source": [
    "# Compare o número de mensagens que os usuários de cada plano costumam enviar a cada mês\n",
    "mensagens_stats = (\n",
    "    df_usage\n",
    "    .groupby('plan', as_index=False)\n",
    "    .agg(media_mensagens=('messages_per_month', 'mean'))\n",
    ")\n",
    "\n",
    "print(mensagens_stats)\n",
    "\n"
   ]
  },
  {
   "cell_type": "code",
   "execution_count": null,
   "metadata": {},
   "outputs": [],
   "source": [
    "plt.figure(figsize=(8, 5))\n",
    "sns.barplot(data=mensagens_stats, x='plan', y='media_mensagens', palette='Blues')\n",
    "\n",
    "plt.title('📨 Média de mensagens enviadas por mês por plano')\n",
    "plt.xlabel('Plano')\n",
    "plt.ylabel('Mensagens por mês')\n",
    "plt.tight_layout()\n",
    "plt.show()\n"
   ]
  },
  {
   "cell_type": "code",
   "execution_count": null,
   "metadata": {
    "id": "fIVdRuT6uj8v"
   },
   "outputs": [],
   "source": [
    "# Compare a quantidade de tráfego de internet consumido pelos usuários por plano\n",
    "internet_stats = (\n",
    "    df_usage\n",
    "    .groupby('plan', as_index=False)\n",
    "    .agg(media_internet_mb=('mb_used', 'mean'))\n",
    ")\n",
    "\n",
    "print(internet_stats)\n",
    "\n"
   ]
  },
  {
   "cell_type": "code",
   "execution_count": null,
   "metadata": {
    "id": "di6wucOLuj8v"
   },
   "outputs": [],
   "source": [
    "\n",
    "plt.figure(figsize=(8, 5))\n",
    "sns.barplot(data=internet_stats, x='plan', y='media_internet_mb', palette='Greens')\n",
    "\n",
    "plt.title('🌐 Média de consumo de internet (MB) por plano')\n",
    "plt.xlabel('Plano')\n",
    "plt.ylabel('MB usados por mês')\n",
    "plt.tight_layout()\n",
    "plt.show()\n"
   ]
  },
  {
   "cell_type": "markdown",
   "metadata": {
    "id": "v6QELMtcuj8v"
   },
   "source": [
    "### 📱 Análise do Uso de Mensagens e Internet por Plano\n",
    "\n",
    "#### 1. Envio de Mensagens por Mês\n",
    "- Usuários do plano **Surf** enviam em média **31.7 mensagens por mês**.\n",
    "- Usuários do plano **Ultimate** enviam em média **40.6 mensagens por mês**.\n",
    "- A diferença não é muito grande, mas mostra que os usuários do **Ultimate tendem a utilizar um pouco mais os serviços de mensagens**, o que pode estar relacionado ao perfil de uso mais intensivo.\n",
    "\n",
    "> ✅ **Interpretação:** Embora ambos os grupos utilizem mensagens com moderação, o plano Ultimate parece atrair usuários **um pouco mais ativos também nesse aspecto**.\n",
    "\n",
    "---\n",
    "\n",
    "#### 2. Consumo Médio de Internet (MB) por Mês\n",
    "- Média de consumo mensal:\n",
    "  - `Surf`: **408 MB**\n",
    "  - `Ultimate`: **417 MB**\n",
    "- A diferença é **muito pequena**, indicando que **o tráfego de internet é praticamente igual entre os dois planos**, apesar do Ultimate oferecer um limite muito maior.\n",
    "\n",
    "> ✅ **Interpretação:** A maior franquia de dados do plano Ultimate **não está sendo aproveitada por completo** pela maioria dos usuários.  \n",
    "> Isso sugere que o uso de internet **é mais homogêneo entre os perfis**, independentemente do plano contratado.\n",
    "\n",
    "---\n",
    "\n",
    "### ✅ Conclusão Geral\n",
    "> Os usuários do plano **Ultimate** apresentam um uso um pouco mais intenso de **mensagens**, mas não há diferença relevante no consumo de **internet** entre os planos.  \n",
    "> O plano Ultimate continua sendo mais vantajoso para quem usa muito as chamadas e mensagens, mas a oferta generosa de dados **não parece estar sendo plenamente utilizada**.\n"
   ]
  },
  {
   "cell_type": "markdown",
   "metadata": {
    "id": "nHUCwAnauj8w"
   },
   "source": [
    "### Internet"
   ]
  },
  {
   "cell_type": "code",
   "execution_count": null,
   "metadata": {
    "id": "EEm27RaRuj8w"
   },
   "outputs": [],
   "source": []
  },
  {
   "cell_type": "markdown",
   "metadata": {
    "id": "g23qXaYNuj8x"
   },
   "source": [
    "## Receita"
   ]
  },
  {
   "cell_type": "markdown",
   "metadata": {
    "id": "qI9oKXFZuj8y"
   },
   "source": [
    "[Da mesma forma que você estudou o comportamento dos usuários, descreva estatisticamente as receitas dos planos.]"
   ]
  },
  {
   "cell_type": "code",
   "execution_count": 156,
   "metadata": {
    "id": "CGuBwYRyuj8y"
   },
   "outputs": [
    {
     "name": "stdout",
     "output_type": "stream",
     "text": [
      "       plan  media_receita  receita_total  mediana_receita  desvio_padrao  \\\n",
      "0      surf      22.286533     1391727.13            20.09       4.160671   \n",
      "1  ultimate      70.000000     2065140.00            70.00       0.000000   \n",
      "\n",
      "   receita_max  receita_min  \n",
      "0        52.55         20.0  \n",
      "1        70.00         70.0  \n"
     ]
    }
   ],
   "source": [
    "# Estatísticas descritivas por plano\n",
    "receita_stats = (\n",
    "    df_usage.groupby('plan', as_index=False)\n",
    "    .agg(\n",
    "        media_receita=('revenue', 'mean'),\n",
    "        receita_total=('revenue', 'sum'),\n",
    "        mediana_receita=('revenue', 'median'),\n",
    "        desvio_padrao=('revenue', 'std'),\n",
    "        receita_max=('revenue', 'max'),\n",
    "        receita_min=('revenue', 'min')\n",
    "    )\n",
    ")\n",
    "\n",
    "print(receita_stats)\n"
   ]
  },
  {
   "cell_type": "code",
   "execution_count": null,
   "metadata": {
    "id": "qJSyfvUguj8y"
   },
   "outputs": [],
   "source": [
    "#  Gráfico de barras com a média da receita mensal por plano\n",
    "plt.figure(figsize=(8, 5))\n",
    "sns.barplot(data=df_usage, x='plan', y='revenue', estimator='mean', ci=None, palette='Oranges')\n",
    "\n",
    "plt.title('💰 Receita Média Mensal por Usuário (por Plano)')\n",
    "plt.xlabel('Plano')\n",
    "plt.ylabel('Receita (€)')\n",
    "plt.tight_layout()\n",
    "plt.show()\n"
   ]
  },
  {
   "cell_type": "code",
   "execution_count": null,
   "metadata": {},
   "outputs": [],
   "source": [
    "# Receita total geral por plano (gráfico de pizza)\n",
    "\n",
    "receita_total = df_usage.groupby('plan')['revenue'].sum()\n",
    "\n",
    "plt.figure(figsize=(6, 6))\n",
    "plt.pie(receita_total, labels=receita_total.index, autopct='%1.1f%%', startangle=90, colors=sns.color_palette(\"Set3\"))\n",
    "plt.title('📊 Participação de Receita por Plano')\n",
    "plt.tight_layout()\n",
    "plt.show()\n"
   ]
  },
  {
   "cell_type": "code",
   "execution_count": 154,
   "metadata": {},
   "outputs": [
    {
     "name": "stdout",
     "output_type": "stream",
     "text": [
      "Perda estimada mensal: €1182.84\n"
     ]
    }
   ],
   "source": [
    "# Filtra apenas os usuários que cancelaram\n",
    "usuarios_cancelados = df_users[df_users['churn_date'].notna()]['user_id']\n",
    "\n",
    "# Receita média dos usuários cancelados\n",
    "perda_mensal = df_usage[df_usage['user_id'].isin(usuarios_cancelados)].groupby('user_id')['revenue'].mean()\n",
    "\n",
    "# Receita total mensal perdida\n",
    "perda_total = perda_mensal.sum()\n",
    "\n",
    "print(f\"Perda estimada mensal: €{perda_total:.2f}\")\n"
   ]
  },
  {
   "cell_type": "code",
   "execution_count": 155,
   "metadata": {},
   "outputs": [
    {
     "name": "stdout",
     "output_type": "stream",
     "text": [
      "Receita média usuários cancelados: 36.96380553359697\n",
      "Receita média usuários ativos: 37.803637668904344\n"
     ]
    }
   ],
   "source": [
    "# Receita média antes do cancelamento\n",
    "antes_do_churn = df_usage[df_usage['user_id'].isin(usuarios_cancelados)].groupby('user_id')['revenue'].mean()\n",
    "\n",
    "# Receita média dos usuários ainda ativos\n",
    "ativos = df_users[df_users['churn_date'].isna()]['user_id']\n",
    "ativos_revenue = df_usage[df_usage['user_id'].isin(ativos)].groupby('user_id')['revenue'].mean()\n",
    "\n",
    "# Comparar média entre eles\n",
    "print(\"Receita média usuários cancelados:\", antes_do_churn.mean())\n",
    "print(\"Receita média usuários ativos:\", ativos_revenue.mean())\n"
   ]
  },
  {
   "cell_type": "markdown",
   "metadata": {},
   "source": [
    "### 💰 Análise Estatística da Receita dos Planos\n",
    "\n",
    "#### 1. Receita média por usuário\n",
    "- **Plano Surf**: receita média de **€22,29**\n",
    "- **Plano Ultimate**: receita média de **€70,00**\n",
    "- A mediana também confirma esse padrão, com valores idênticos à média no plano Ultimate (indicando estabilidade no faturamento desse plano).\n",
    "\n",
    "> ✅ **Conclusão:** o plano **Ultimate gera mais de 3x mais receita por usuário** do que o plano Surf.\n",
    "\n",
    "---\n",
    "\n",
    "#### 2. Receita total gerada por plano\n",
    "- Receita total do plano **Surf**: **€139.127,73**\n",
    "- Receita total do plano **Ultimate**: **€2.065.140,00**\n",
    "\n",
    "> 💡 **Mesmo que o plano Surf tenha mais usuários, o Ultimate é responsável por mais de 90% da receita total da empresa.**\n",
    "\n",
    "---\n",
    "\n",
    "#### 3. Receita máxima e mínima\n",
    "- No plano **Surf**, há usuários pagando entre **€20 a €52,55**, com maior variação de uso.\n",
    "- No plano **Ultimate**, todos os usuários pagam exatamente **€70,00** (sem excedentes) — o que reflete a natureza \"ilimitada\" do plano.\n",
    "\n",
    "> ✅ O plano **Ultimate tem receita estável e previsível**; o plano **Surf tem variabilidade de receita**, influenciada pelo uso excedente.\n",
    "\n",
    "---\n",
    "\n",
    "#### 4. Estimativa de perda de receita por churn\n",
    "- Usuários que cancelaram geravam, em média, **€36,96 por mês**.\n",
    "- Usuários ativos atualmente geram **€37,80 por mês**.\n",
    "- A empresa perde aproximadamente **€1.182,84 por mês** com os cancelamentos.\n",
    "\n",
    "> 🔥 **Conclusão estratégica:** A média de receita entre ativos e cancelados é muito próxima, indicando que **não são apenas usuários de baixo valor que estão cancelando**. A retenção deve ser tratada com atenção em todos os perfis.\n",
    "\n",
    "---\n",
    "\n",
    "### ✅ Conclusão Final\n",
    "\n",
    "> O plano **Ultimate** é o principal responsável pela receita da Megaline, apresentando **valor alto por cliente, faturamento estável e baixa variância**.  \n",
    "> Já o plano **Surf** oferece oportunidades de crescimento com usuários mais voláteis, mas exige **gestão cuidadosa para evitar churn e aumentar o ticket médio**.  \n",
    "> A análise de churn revelou que **mesmo usuários com boa receita estão saindo**, indicando a necessidade de **ações de retenção ativas** e **monitoramento contínuo do comportamento dos clientes**.\n"
   ]
  },
  {
   "cell_type": "markdown",
   "metadata": {
    "id": "6X34EwHpuj8z"
   },
   "source": [
    "[Formule conclusões sobre como a receita difere entre os planos.]"
   ]
  },
  {
   "cell_type": "markdown",
   "metadata": {
    "id": "xJ6Mu-KAuj8z"
   },
   "source": [
    "## Teste hipóteses estatísticas"
   ]
  },
  {
   "cell_type": "markdown",
   "metadata": {
    "id": "lop_0j4Duj8z"
   },
   "source": [
    "[Teste a hipótese de que a receita média dos usuários dos planos Ultimate e Surf são diferentes.]"
   ]
  },
  {
   "cell_type": "markdown",
   "metadata": {
    "id": "-X2l1R8Luj80"
   },
   "source": [
    "[Formule as hipóteses nula e alternativa, escolha o teste estatístico, escolha o valor alfa.]"
   ]
  },
  {
   "cell_type": "code",
   "execution_count": null,
   "metadata": {
    "id": "LyGrPhpUuj80"
   },
   "outputs": [],
   "source": [
    "# Teste as hipóteses\n",
    "\n"
   ]
  },
  {
   "cell_type": "markdown",
   "metadata": {
    "id": "Cz6rwE56uj80"
   },
   "source": [
    "[Teste a hipótese de que a receita média dos usuários da área de NY-NJ difere dos usuários das demais regiões.]"
   ]
  },
  {
   "cell_type": "markdown",
   "metadata": {
    "id": "kMHim5__uj80"
   },
   "source": [
    "[Formule as hipóteses nula e alternativa, escolha o teste estatístico, escolha o valor alfa.]"
   ]
  },
  {
   "cell_type": "code",
   "execution_count": 163,
   "metadata": {
    "id": "98t8iiJyuj80"
   },
   "outputs": [
    {
     "name": "stdout",
     "output_type": "stream",
     "text": [
      "Estatística t: -2865.718\n",
      "Valor-p: 0.00000\n",
      "❌ Rejeitamos H₀: as receitas médias são estatisticamente diferentes.\n"
     ]
    },
    {
     "name": "stderr",
     "output_type": "stream",
     "text": [
      "c:\\Users\\Doit\\Desktop\\Projetos Triple Ten\\sptrint3\\venv\\Lib\\site-packages\\scipy\\stats\\_axis_nan_policy.py:586: RuntimeWarning: Precision loss occurred in moment calculation due to catastrophic cancellation. This occurs when the data are nearly identical. Results may be unreliable.\n",
      "  res = hypotest_fun_out(*samples, **kwds)\n"
     ]
    }
   ],
   "source": [
    "# Separar as receitas por plano\n",
    "surf = df_usage[df_usage['plan'] == 'surf']['revenue']\n",
    "ultimate = df_usage[df_usage['plan'] == 'ultimate']['revenue']\n",
    "\n",
    "# Aplicar o teste t de Student com variâncias diferentes\n",
    "t_stat, p_valor = ttest_ind(surf, ultimate, equal_var=False)\n",
    "\n",
    "print(f\"Estatística t: {t_stat:.3f}\")\n",
    "print(f\"Valor-p: {p_valor:.5f}\")\n",
    "\n",
    "# Verificar o resultado\n",
    "if p_valor < 0.05:\n",
    "    print(\"❌ Rejeitamos H₀: as receitas médias são estatisticamente diferentes.\")\n",
    "else:\n",
    "    print(\"✅ Não rejeitamos H₀: não há evidência suficiente de diferença nas médias.\")\n"
   ]
  },
  {
   "cell_type": "code",
   "execution_count": 176,
   "metadata": {},
   "outputs": [
    {
     "name": "stdout",
     "output_type": "stream",
     "text": [
      "Estatística t: -51.086\n",
      "Valor-p: 0.00000\n",
      "❌ Rejeitamos H₀: as receitas médias são estatisticamente diferentes.\n"
     ]
    }
   ],
   "source": [
    "# Criar uma máscara para NY-NJ \n",
    "ny_nj_users = df_users[df_users['city'].str.contains('New York|New Jersey', case=False)]['user_id']\n",
    "outras_users = df_users[~df_users['user_id'].isin(ny_nj_users)]['user_id']\n",
    "\n",
    "# Trazer a receita desses usuários via df_usage\n",
    "ny_nj_revenue = df_usage[df_usage['user_id'].isin(ny_nj_users)]['revenue']\n",
    "outras_revenue = df_usage[df_usage['user_id'].isin(outras_users)]['revenue']\n",
    "\n",
    "# Aplicar o teste t (variâncias diferentes)\n",
    "t_stat, p_valor = ttest_ind(ny_nj_revenue, outras_revenue, equal_var=False)\n",
    "\n",
    "# Resultado\n",
    "print(f\"Estatística t: {t_stat:.3f}\")\n",
    "print(f\"Valor-p: {p_valor:.5f}\")\n",
    "\n",
    "if p_valor < 0.05:\n",
    "    print(\"❌ Rejeitamos H₀: as receitas médias são estatisticamente diferentes.\")\n",
    "else:\n",
    "    print(\"✅ Não rejeitamos H₀: não há evidência suficiente de diferença nas médias.\")"
   ]
  },
  {
   "cell_type": "markdown",
   "metadata": {},
   "source": []
  },
  {
   "cell_type": "markdown",
   "metadata": {
    "id": "M8WycwWFuj81"
   },
   "source": [
    "## Conclusão geral\n",
    "\n",
    "[Liste suas conclusões importantes nesta seção final, certifique-se de que elas cobrem todas as decisões (suposições) importantes que você tomou e que levaram à maneira como você processou e analisou os dados.]"
   ]
  }
 ],
 "metadata": {
  "ExecuteTimeLog": [
   {
    "duration": 828,
    "start_time": "2021-11-16T09:21:11.304Z"
   },
   {
    "duration": 893,
    "start_time": "2021-11-16T09:21:17.728Z"
   },
   {
    "duration": 1150,
    "start_time": "2021-11-16T09:21:29.568Z"
   },
   {
    "duration": 3,
    "start_time": "2021-11-16T09:24:14.495Z"
   },
   {
    "duration": 120,
    "start_time": "2021-11-16T09:24:46.630Z"
   },
   {
    "duration": 3,
    "start_time": "2021-11-16T09:28:27.882Z"
   },
   {
    "duration": 4,
    "start_time": "2021-11-16T09:29:54.281Z"
   },
   {
    "duration": 3,
    "start_time": "2021-11-16T09:30:45.936Z"
   },
   {
    "duration": 4,
    "start_time": "2021-11-16T09:31:06.300Z"
   },
   {
    "duration": 113,
    "start_time": "2021-11-16T09:31:37.208Z"
   },
   {
    "duration": 143,
    "start_time": "2021-11-16T09:31:48.656Z"
   },
   {
    "duration": 98,
    "start_time": "2021-11-16T09:31:55.678Z"
   },
   {
    "duration": 3,
    "start_time": "2021-11-16T09:32:08.535Z"
   },
   {
    "duration": 111,
    "start_time": "2021-11-16T09:32:10.120Z"
   },
   {
    "duration": 3,
    "start_time": "2021-11-16T09:32:15.732Z"
   },
   {
    "duration": 4,
    "start_time": "2021-11-16T09:32:29.423Z"
   },
   {
    "duration": 3,
    "start_time": "2021-11-16T10:03:03.074Z"
   },
   {
    "duration": 3,
    "start_time": "2021-11-16T10:10:01.288Z"
   },
   {
    "duration": 3,
    "start_time": "2021-11-16T10:10:46.923Z"
   },
   {
    "duration": 121,
    "start_time": "2021-11-16T10:37:46.494Z"
   },
   {
    "duration": 125,
    "start_time": "2021-11-16T10:38:20.632Z"
   },
   {
    "duration": 112,
    "start_time": "2021-11-16T10:46:53.001Z"
   },
   {
    "duration": 110,
    "start_time": "2021-11-16T10:48:25.775Z"
   },
   {
    "duration": 3,
    "start_time": "2021-11-16T10:50:18.720Z"
   },
   {
    "duration": 4,
    "start_time": "2021-11-16T10:50:37.649Z"
   },
   {
    "duration": 2,
    "start_time": "2021-11-16T10:50:51.884Z"
   },
   {
    "duration": 3,
    "start_time": "2021-11-16T10:51:56.237Z"
   },
   {
    "duration": 101,
    "start_time": "2021-11-16T10:53:13.791Z"
   },
   {
    "duration": 3,
    "start_time": "2021-11-16T10:55:59.186Z"
   },
   {
    "duration": 3,
    "start_time": "2021-11-16T10:56:10.751Z"
   },
   {
    "duration": 3,
    "start_time": "2021-11-16T10:56:49.038Z"
   },
   {
    "duration": 3,
    "start_time": "2021-11-16T10:56:49.174Z"
   },
   {
    "duration": 4,
    "start_time": "2021-11-16T10:56:49.414Z"
   },
   {
    "duration": 3,
    "start_time": "2021-11-16T10:56:49.680Z"
   },
   {
    "duration": 3,
    "start_time": "2021-11-16T10:56:50.370Z"
   },
   {
    "duration": 114,
    "start_time": "2021-11-16T10:59:34.518Z"
   },
   {
    "duration": 3,
    "start_time": "2021-11-16T11:01:41.201Z"
   },
   {
    "duration": 116,
    "start_time": "2021-11-16T11:01:48.754Z"
   },
   {
    "duration": 3,
    "start_time": "2021-11-16T11:02:16.685Z"
   },
   {
    "duration": 3,
    "start_time": "2021-11-16T11:02:19.479Z"
   },
   {
    "duration": 3,
    "start_time": "2021-11-16T11:02:47.067Z"
   },
   {
    "duration": 3,
    "start_time": "2021-11-16T11:02:49.353Z"
   },
   {
    "duration": 3,
    "start_time": "2021-11-16T11:03:07.835Z"
   },
   {
    "duration": 3,
    "start_time": "2021-11-16T11:03:07.953Z"
   },
   {
    "duration": 112,
    "start_time": "2021-11-16T11:07:52.072Z"
   },
   {
    "duration": 187,
    "start_time": "2021-11-16T11:09:23.468Z"
   },
   {
    "duration": 4,
    "start_time": "2021-11-16T11:10:01.455Z"
   },
   {
    "duration": 3,
    "start_time": "2021-11-16T11:10:05.069Z"
   },
   {
    "duration": 4,
    "start_time": "2021-11-16T11:10:13.376Z"
   },
   {
    "duration": 3,
    "start_time": "2021-11-16T11:10:14.434Z"
   },
   {
    "duration": 3,
    "start_time": "2021-11-16T11:10:22.853Z"
   },
   {
    "duration": 4,
    "start_time": "2021-11-16T11:27:29.279Z"
   },
   {
    "duration": 4,
    "start_time": "2021-11-16T11:29:08.919Z"
   },
   {
    "duration": 118,
    "start_time": "2021-11-16T11:29:46.703Z"
   },
   {
    "duration": 437,
    "start_time": "2021-11-16T11:36:02.181Z"
   },
   {
    "duration": 157,
    "start_time": "2021-11-16T11:36:14.388Z"
   },
   {
    "duration": 207,
    "start_time": "2021-11-16T11:47:15.898Z"
   },
   {
    "duration": 3,
    "start_time": "2021-11-16T11:53:52.092Z"
   },
   {
    "duration": 3,
    "start_time": "2021-11-16T11:53:52.236Z"
   },
   {
    "duration": 3,
    "start_time": "2021-11-16T11:59:12.005Z"
   },
   {
    "duration": 112,
    "start_time": "2021-11-16T12:00:33.446Z"
   },
   {
    "duration": 3,
    "start_time": "2021-11-16T12:02:14.453Z"
   },
   {
    "duration": 3,
    "start_time": "2021-11-16T12:02:39.512Z"
   },
   {
    "duration": 106,
    "start_time": "2021-11-16T12:03:03.460Z"
   },
   {
    "duration": 3,
    "start_time": "2021-11-17T20:37:21.139Z"
   },
   {
    "duration": 3,
    "start_time": "2021-11-17T20:37:22.229Z"
   },
   {
    "duration": 3,
    "start_time": "2021-11-17T20:38:38.806Z"
   },
   {
    "duration": 3,
    "start_time": "2021-11-17T20:38:41.958Z"
   },
   {
    "duration": 3,
    "start_time": "2021-11-17T20:43:46.551Z"
   },
   {
    "duration": 4,
    "start_time": "2021-11-17T20:58:21.835Z"
   },
   {
    "duration": 3,
    "start_time": "2021-11-17T20:59:21.872Z"
   },
   {
    "duration": 4,
    "start_time": "2021-11-17T20:59:45.352Z"
   },
   {
    "duration": 4,
    "start_time": "2021-11-17T20:59:49.646Z"
   },
   {
    "duration": 159,
    "start_time": "2021-11-17T21:02:26.949Z"
   },
   {
    "duration": 3,
    "start_time": "2021-11-17T21:03:53.461Z"
   },
   {
    "duration": 3,
    "start_time": "2021-11-17T21:03:53.694Z"
   },
   {
    "duration": 3,
    "start_time": "2021-11-17T21:05:28.145Z"
   },
   {
    "duration": 116,
    "start_time": "2021-11-17T21:05:57.787Z"
   },
   {
    "duration": 3,
    "start_time": "2021-11-17T21:06:37.993Z"
   },
   {
    "duration": 3,
    "start_time": "2021-11-17T21:06:38.261Z"
   },
   {
    "duration": 3,
    "start_time": "2021-11-17T21:11:54.358Z"
   },
   {
    "duration": 3,
    "start_time": "2021-11-17T21:12:43.846Z"
   },
   {
    "duration": 4,
    "start_time": "2021-11-17T21:13:08.773Z"
   },
   {
    "duration": 3,
    "start_time": "2021-11-17T21:14:44.441Z"
   },
   {
    "duration": 3,
    "start_time": "2021-11-17T21:15:42.059Z"
   },
   {
    "duration": 4,
    "start_time": "2021-11-17T21:15:51.995Z"
   },
   {
    "duration": 3,
    "start_time": "2021-11-17T21:15:53.923Z"
   },
   {
    "duration": 3,
    "start_time": "2021-11-17T21:15:55.282Z"
   },
   {
    "duration": 3,
    "start_time": "2021-11-17T21:16:28.492Z"
   },
   {
    "duration": 3,
    "start_time": "2021-11-17T21:16:32.603Z"
   },
   {
    "duration": 3,
    "start_time": "2021-11-17T21:17:06.941Z"
   },
   {
    "duration": 98,
    "start_time": "2021-11-17T21:18:05.733Z"
   },
   {
    "duration": 4,
    "start_time": "2021-11-17T21:21:35.255Z"
   },
   {
    "duration": 3,
    "start_time": "2021-11-17T21:21:37.804Z"
   },
   {
    "duration": 4,
    "start_time": "2021-11-17T21:23:06.071Z"
   },
   {
    "duration": 3,
    "start_time": "2021-11-17T21:23:24.799Z"
   },
   {
    "duration": 3,
    "start_time": "2021-11-17T21:23:32.591Z"
   },
   {
    "duration": 98,
    "start_time": "2021-11-17T21:28:31.559Z"
   },
   {
    "duration": 3,
    "start_time": "2021-11-17T21:28:45.448Z"
   },
   {
    "duration": 3,
    "start_time": "2021-11-17T21:29:17.303Z"
   },
   {
    "duration": 3,
    "start_time": "2021-11-17T21:29:29.617Z"
   },
   {
    "duration": 3,
    "start_time": "2021-11-17T21:29:32.681Z"
   },
   {
    "duration": 3,
    "start_time": "2021-11-17T21:36:11.474Z"
   },
   {
    "duration": 3,
    "start_time": "2021-11-17T21:36:14.791Z"
   },
   {
    "duration": 3,
    "start_time": "2021-11-17T21:36:53.943Z"
   },
   {
    "duration": 3,
    "start_time": "2021-11-17T21:36:56.165Z"
   },
   {
    "duration": 4,
    "start_time": "2021-11-17T21:37:16.590Z"
   },
   {
    "duration": 3,
    "start_time": "2021-11-17T21:37:22.702Z"
   },
   {
    "duration": 4,
    "start_time": "2021-11-17T21:38:03.479Z"
   },
   {
    "duration": 3,
    "start_time": "2021-11-17T21:38:08.601Z"
   },
   {
    "duration": 3,
    "start_time": "2021-11-17T21:38:12.928Z"
   },
   {
    "duration": 3,
    "start_time": "2021-11-17T21:38:48.896Z"
   },
   {
    "duration": 2,
    "start_time": "2021-11-17T21:38:49.171Z"
   },
   {
    "duration": 4,
    "start_time": "2021-11-17T21:39:57.889Z"
   },
   {
    "duration": 3,
    "start_time": "2021-11-17T21:39:58.057Z"
   },
   {
    "duration": 3,
    "start_time": "2021-11-17T21:41:20.108Z"
   },
   {
    "duration": 3,
    "start_time": "2021-11-17T21:41:20.629Z"
   },
   {
    "duration": 3,
    "start_time": "2021-11-17T21:42:49.136Z"
   },
   {
    "duration": 3,
    "start_time": "2021-11-17T21:43:15.137Z"
   },
   {
    "duration": 4,
    "start_time": "2021-11-17T21:43:16.766Z"
   },
   {
    "duration": 4,
    "start_time": "2021-11-17T21:43:31.711Z"
   },
   {
    "duration": 3,
    "start_time": "2021-11-17T21:43:36.312Z"
   },
   {
    "duration": 4,
    "start_time": "2021-11-17T21:45:08.825Z"
   },
   {
    "duration": 4,
    "start_time": "2021-11-17T21:45:10.119Z"
   },
   {
    "duration": 4,
    "start_time": "2021-11-17T21:45:13.748Z"
   },
   {
    "duration": 3,
    "start_time": "2021-11-17T21:45:22.219Z"
   },
   {
    "duration": 3,
    "start_time": "2021-11-17T21:45:33.412Z"
   },
   {
    "duration": 2,
    "start_time": "2021-11-17T21:46:01.885Z"
   },
   {
    "duration": 3,
    "start_time": "2021-11-17T21:46:03.628Z"
   },
   {
    "duration": 107,
    "start_time": "2021-11-17T21:47:32.512Z"
   },
   {
    "duration": 103,
    "start_time": "2021-11-17T21:50:36.243Z"
   },
   {
    "duration": 3,
    "start_time": "2021-11-18T06:28:31.440Z"
   },
   {
    "duration": 3,
    "start_time": "2021-11-18T06:29:00.168Z"
   },
   {
    "duration": 3,
    "start_time": "2021-11-18T06:31:27.008Z"
   },
   {
    "duration": 2,
    "start_time": "2021-11-18T06:35:34.288Z"
   },
   {
    "duration": 2,
    "start_time": "2021-11-18T06:38:04.527Z"
   }
  ],
  "colab": {
   "provenance": []
  },
  "kernelspec": {
   "display_name": "venv",
   "language": "python",
   "name": "python3"
  },
  "language_info": {
   "codemirror_mode": {
    "name": "ipython",
    "version": 3
   },
   "file_extension": ".py",
   "mimetype": "text/x-python",
   "name": "python",
   "nbconvert_exporter": "python",
   "pygments_lexer": "ipython3",
   "version": "3.13.3"
  },
  "toc": {
   "base_numbering": 1,
   "nav_menu": {},
   "number_sections": true,
   "sideBar": true,
   "skip_h1_title": false,
   "title_cell": "Table of Contents",
   "title_sidebar": "Contents",
   "toc_cell": false,
   "toc_position": {},
   "toc_section_display": true,
   "toc_window_display": true
  }
 },
 "nbformat": 4,
 "nbformat_minor": 4
}
